{
 "cells": [
  {
   "cell_type": "code",
   "execution_count": null,
   "id": "3b5fd349",
   "metadata": {},
   "outputs": [],
   "source": []
  },
  {
   "cell_type": "code",
   "execution_count": null,
   "id": "96f53f86",
   "metadata": {},
   "outputs": [],
   "source": [
    "import tensorflow as tf\n",
    "from tensorflow.keras import layers, models\n",
    "\n",
    "def artist_style_model(input_shape):\n",
    "    model = models.Sequential()\n",
    "\n",
    "    # Convolutional layers for feature extraction\n",
    "    model.add(layers.Conv2D(32, (3, 3), activation='relu', input_shape=input_shape))\n",
    "    model.add(layers.MaxPooling2D((2, 2)))\n",
    "    model.add(layers.Conv2D(64, (3, 3), activation='relu'))\n",
    "    model.add(layers.MaxPooling2D((2, 2)))\n",
    "    model.add(layers.Conv2D(128, (3, 3), activation='relu'))\n",
    "    model.add(layers.MaxPooling2D((2, 2)))\n",
    "    \n",
    "    # Flatten the output and add fully connected layers\n",
    "    model.add(layers.Flatten())\n",
    "    model.add(layers.Dense(256, activation='relu'))\n",
    "    model.add(layers.Dense(128, activation='relu'))\n",
    "\n",
    "    return model\n",
    "\n",
    "# Example usage:\n",
    "input_shape = (256, 256, 3)  # Adjust based on your input image size\n",
    "artist_style_model = artist_style_model(input_shape)\n",
    "artist_style_model.summary()\n",
    "\n"
   ]
  },
  {
   "cell_type": "code",
   "execution_count": null,
   "id": "da7c1133",
   "metadata": {},
   "outputs": [],
   "source": [
    "import numpy as np\n",
    "\n",
    "def gram_matrix(x):\n",
    "    features = tf.keras.backend.batch_flatten(tf.keras.backend.permute_dimensions(x, (2, 0, 1)))\n",
    "    gram = tf.keras.backend.dot(features, tf.keras.backend.transpose(features))\n",
    "    return gram\n",
    "\n",
    "def style_transfer_model(base_model, content_layers, style_layers):\n",
    "    outputs = [base_model.get_layer(layer).output for layer in (content_layers + style_layers)]\n",
    "\n",
    "    model = models.Model(inputs=base_model.input, outputs=outputs)\n",
    "\n",
    "    content_outputs = model.outputs[:len(content_layers)]\n",
    "    style_outputs = model.outputs[len(content_layers):]\n",
    "\n",
    "    gram_style_features = [gram_matrix(style_output) for style_output in style_outputs]\n",
    "\n",
    "    return model, gram_style_features\n",
    "\n",
    "# Example usage:\n",
    "from tensorflow.keras.applications import VGG19\n",
    "\n",
    "base_model = VGG19(weights='imagenet', include_top=False, input_shape=input_shape)\n",
    "content_layers = ['block4_conv2']\n",
    "style_layers = ['block1_conv1', 'block2_conv1', 'block3_conv1', 'block4_conv1', 'block5_conv1']\n",
    "\n",
    "style_transfer_model, gram_style_features = style_transfer_model(base_model, content_layers, style_layers)\n",
    "\n",
    "\n"
   ]
  }
 ],
 "metadata": {
  "kernelspec": {
   "display_name": "Python 3 (ipykernel)",
   "language": "python",
   "name": "python3"
  },
  "language_info": {
   "codemirror_mode": {
    "name": "ipython",
    "version": 3
   },
   "file_extension": ".py",
   "mimetype": "text/x-python",
   "name": "python",
   "nbconvert_exporter": "python",
   "pygments_lexer": "ipython3",
   "version": "3.9.16"
  }
 },
 "nbformat": 4,
 "nbformat_minor": 5
}
